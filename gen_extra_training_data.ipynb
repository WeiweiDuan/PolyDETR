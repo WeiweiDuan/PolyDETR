{
 "cells": [
  {
   "cell_type": "code",
   "execution_count": 1,
   "id": "855bb43c",
   "metadata": {},
   "outputs": [],
   "source": [
    "import sys\n",
    "import os \n",
    "import cv2\n",
    "import glob\n",
    "import random\n",
    "import numpy as np\n",
    "from util.rotation_operator import rotate_nodes_dict, rotate\n",
    "from data_process.gen_refine_targets_helper import construct_sub_graph, gen_node_cls_reg_targets, gen_adj_conn_targets"
   ]
  },
  {
   "cell_type": "code",
   "execution_count": 2,
   "id": "c11f92e1",
   "metadata": {},
   "outputs": [],
   "source": [
    "\n",
    "# A list of maps adding as negative thrust fault lines for fault line training\n",
    "#'AK_HinesCreek','CO_HorseMtn','DC_Wash_West','ID_basement','ID_LowerValley','VA_Lahore_bm','CA_BartlettSprings'\n",
    "#'AZ_PeachSprings','AK_Christian'\n",
    "\n"
   ]
  },
  {
   "cell_type": "code",
   "execution_count": 3,
   "id": "f7b9e785",
   "metadata": {},
   "outputs": [],
   "source": [
    "data_dir = '/data/weiweidu/data/training_png_shp'\n",
    "map_name = 'AK_HinesCreek'\n",
    "\n",
    "pts_fname = '%s_thrust_fault_line.txt'%(map_name)\n",
    "WIN_SIZE = 512\n",
    "gsize = 32\n",
    "num_nodes = 200\n",
    "map_name = '%s.png'%(map_name)\n",
    "map_path = os.path.join(data_dir, map_name)\n",
    "\n",
    "training_folder_name = 'fault_line_samples_img512_grid32_color_aug'"
   ]
  },
  {
   "cell_type": "code",
   "execution_count": 4,
   "id": "a9169741",
   "metadata": {},
   "outputs": [
    {
     "name": "stdout",
     "output_type": "stream",
     "text": [
      "(192, 2) pts in the txt file.\n"
     ]
    }
   ],
   "source": [
    "pts = np.loadtxt(os.path.join(data_dir, pts_fname), dtype=np.int32, delimiter=\",\")\n",
    "np.random.shuffle(pts)\n",
    "print('{} pts in the txt file.'.format(pts.shape))"
   ]
  },
  {
   "cell_type": "code",
   "execution_count": 5,
   "id": "c2e56f2c",
   "metadata": {},
   "outputs": [
    {
     "name": "stdout",
     "output_type": "stream",
     "text": [
      "10541 samples in the folder.\n"
     ]
    }
   ],
   "source": [
    "n_samples = len(glob.glob(os.path.join(os.path.join(data_dir, training_folder_name), '*.npz')))\n",
    "\n",
    "print('{} samples in the folder.'.format(n_samples))"
   ]
  },
  {
   "cell_type": "code",
   "execution_count": 6,
   "id": "45b053ae",
   "metadata": {},
   "outputs": [],
   "source": [
    "# temp_folder = 'new_lineament_line_samples'\n",
    "\n",
    "# if not os.path.exists(os.path.join(data_dir, temp_folder)):\n",
    "#     os.makedirs(os.path.join(data_dir, temp_folder))"
   ]
  },
  {
   "cell_type": "code",
   "execution_count": 7,
   "id": "568cb13f",
   "metadata": {},
   "outputs": [
    {
     "name": "stdout",
     "output_type": "stream",
     "text": [
      "map image shape is (16215, 23813, 3)\n"
     ]
    }
   ],
   "source": [
    "map_img = cv2.imread(map_path)\n",
    "print('map image shape is {}'.format(map_img.shape))"
   ]
  },
  {
   "cell_type": "code",
   "execution_count": 8,
   "id": "ab1be896",
   "metadata": {},
   "outputs": [],
   "source": [
    "for i, pt in enumerate(pts[:100]):\n",
    "    sub_nodes_dict, sub_edges_list = {}, []\n",
    "\n",
    "    for r_angle in random.sample([90, 180, 270, 360], 1):\n",
    "        rot_sub_nodes_dict = {}\n",
    "        node_cat_targets, node_reg_targets, nodes_in_grids, rot_sub_nodes_dict, sub_edges_list \\\n",
    "                = gen_node_cls_reg_targets(rot_sub_nodes_dict, sub_edges_list, gsize=gsize, img_size=WIN_SIZE)\n",
    "\n",
    "        node_inputs, adj_targets, conn_targets, nodes_mask = \\\n",
    "            gen_adj_conn_targets(nodes_in_grids, rot_sub_nodes_dict, sub_edges_list, gsize=gsize, img_size=WIN_SIZE, n_nodes=num_nodes)\n",
    "\n",
    "        x_img = map_img[pt[0]-WIN_SIZE//2:pt[0]+WIN_SIZE//2, pt[1]-WIN_SIZE//2:pt[1]+WIN_SIZE//2]\n",
    "        rot_x_img = rotate(x_img, angle=r_angle)\n",
    "\n",
    "        # write sample to disk\n",
    "        file_name = os.path.join(data_dir, f'{training_folder_name}', f'{i+n_samples}.npz')\n",
    "        data = {\n",
    "            'x_img': rot_x_img,\n",
    "            'node_cat_targets': node_cat_targets,\n",
    "            'node_reg_targets': node_reg_targets,\n",
    "            'node_inputs': node_inputs,\n",
    "            'adj_targets': adj_targets,\n",
    "            'conn_targets': conn_targets,\n",
    "            'nodes_mask': nodes_mask}\n",
    "        np.savez(file_name, **data)"
   ]
  },
  {
   "cell_type": "code",
   "execution_count": 9,
   "id": "d27aa1dd",
   "metadata": {},
   "outputs": [],
   "source": [
    "# for root, dirs, files in os.walk(\"/data/weiweidu/data/training_png_shp/fault_line_samples_img512_grid32\", topdown=False):\n",
    "#     for name in files:\n",
    "#         index = int(name.split('.')[0])\n",
    "#         if index > 9508:\n",
    "#             os.remove(os.path.join(root, name))"
   ]
  },
  {
   "cell_type": "code",
   "execution_count": null,
   "id": "32aca562",
   "metadata": {},
   "outputs": [],
   "source": []
  }
 ],
 "metadata": {
  "kernelspec": {
   "display_name": "Python 3",
   "language": "python",
   "name": "python3"
  },
  "language_info": {
   "codemirror_mode": {
    "name": "ipython",
    "version": 3
   },
   "file_extension": ".py",
   "mimetype": "text/x-python",
   "name": "python",
   "nbconvert_exporter": "python",
   "pygments_lexer": "ipython3",
   "version": "3.6.6"
  }
 },
 "nbformat": 4,
 "nbformat_minor": 5
}
